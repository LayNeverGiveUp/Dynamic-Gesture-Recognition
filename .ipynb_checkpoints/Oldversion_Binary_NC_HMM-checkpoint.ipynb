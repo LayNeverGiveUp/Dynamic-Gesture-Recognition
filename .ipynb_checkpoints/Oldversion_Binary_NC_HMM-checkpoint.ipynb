{
 "cells": [
  {
   "cell_type": "code",
   "execution_count": 2,
   "metadata": {},
   "outputs": [
    {
     "name": "stdout",
     "output_type": "stream",
     "text": [
      "importing Jupyter notebook from Self_function.ipynb\n"
     ]
    }
   ],
   "source": [
    "import pandas as pd\n",
    "import numpy as np\n",
    "from hmmlearn import hmm\n",
    "from sklearn.externals import joblib\n",
    "import warnings\n",
    "warnings.filterwarnings('ignore')\n",
    "import Ipynb_importer\n",
    "import Self_function"
   ]
  },
  {
   "cell_type": "code",
   "execution_count": 3,
   "metadata": {
    "collapsed": true
   },
   "outputs": [],
   "source": [
    "#set hidden state for HMM\n",
    "state_list=[3,3,3,3,3,3,3,3]\n",
    "#state_list=[5,5,5,5,5,5,5,5]"
   ]
  },
  {
   "cell_type": "code",
   "execution_count": 4,
   "metadata": {
    "collapsed": true
   },
   "outputs": [],
   "source": [
    "#train with training set\n",
    "for i in range(1,9):\n",
    "    observation=pd.read_csv('/Users/lay/Desktop/CSV_data/train_class/class'+str(i)+'.csv')\n",
    "    length=pd.read_csv('/Users/lay/Desktop/CSV_data/train_class/length'+str(i)+'.csv')\n",
    "    X=observation.values\n",
    "    lengths=length.values[0].tolist()\n",
    "    remodel = hmm.GaussianHMM(n_components=state_list[i-1],n_iter=100,covariance_type=\"diag\",init_params=\"mcs\")\n",
    "    remodel.fit(X,lengths)\n",
    "    joblib.dump(remodel,'hmm'+str(i)+'.pkl')"
   ]
  },
  {
   "cell_type": "code",
   "execution_count": 5,
   "metadata": {
    "collapsed": true
   },
   "outputs": [],
   "source": [
    "#prediction make on test set\n",
    "result=[]\n",
    "for m in range(8):\n",
    "    for n in range(3):\n",
    "        test_observation=pd.read_csv('/Users/lay/Desktop/CSV_data/validation_class/'+str(m+1)+'_'+str(n+1)+'.csv')\n",
    "        Y=test_observation.values\n",
    "        pre=[]\n",
    "        for j in range(8):\n",
    "            hmm=joblib.load('hmm'+str(j+1)+'.pkl')\n",
    "            pre.append(hmm.score(Y))   \n",
    "        index=pre.index((max(pre)))\n",
    "        result.append(index)\n",
    "        "
   ]
  },
  {
   "cell_type": "code",
   "execution_count": 6,
   "metadata": {},
   "outputs": [
    {
     "name": "stdout",
     "output_type": "stream",
     "text": [
      "correct_rate=0.625\n"
     ]
    }
   ],
   "source": [
    "#evaluation\n",
    "real=[0,0,0,1,1,1,2,2,2,3,3,3,4,4,4,5,5,5,6,6,6,7,7,7]\n",
    "diff=np.array(real)-np.array(result)\n",
    "true=diff.tolist().count(0)\n",
    "correct_rate=true/len(real)\n",
    "print('correct_rate='+str(correct_rate))\n"
   ]
  },
  {
   "cell_type": "code",
   "execution_count": 261,
   "metadata": {},
   "outputs": [
    {
     "data": {
      "text/plain": [
       "[1, 3, 6, 10, 15]"
      ]
     },
     "execution_count": 261,
     "metadata": {},
     "output_type": "execute_result"
    }
   ],
   "source": [
    "length=[1,2,3,4,5]\n",
    "length_to_index(length)"
   ]
  },
  {
   "cell_type": "code",
   "execution_count": 44,
   "metadata": {
    "collapsed": true
   },
   "outputs": [],
   "source": [
    "X1 = [[0.5], [1.0], [-1.0], [0.42], [0.24]]\n",
    "X2 = [[2.4], [4.2], [0.5], [-0.24]]\n",
    "X = np.concatenate([X1, X2])\n",
    "        "
   ]
  },
  {
   "cell_type": "code",
   "execution_count": 56,
   "metadata": {},
   "outputs": [
    {
     "data": {
      "text/plain": [
       "277"
      ]
     },
     "execution_count": 56,
     "metadata": {},
     "output_type": "execute_result"
    }
   ],
   "source": [
    "sum(lengths)"
   ]
  },
  {
   "cell_type": "code",
   "execution_count": 49,
   "metadata": {},
   "outputs": [
    {
     "data": {
      "text/plain": [
       "(277, 1024)"
      ]
     },
     "execution_count": 49,
     "metadata": {},
     "output_type": "execute_result"
    }
   ],
   "source": [
    "X.shape"
   ]
  },
  {
   "cell_type": "code",
   "execution_count": null,
   "metadata": {
    "collapsed": true
   },
   "outputs": [],
   "source": []
  }
 ],
 "metadata": {
  "kernelspec": {
   "display_name": "Python 3",
   "language": "python",
   "name": "python3"
  },
  "language_info": {
   "codemirror_mode": {
    "name": "ipython",
    "version": 3
   },
   "file_extension": ".py",
   "mimetype": "text/x-python",
   "name": "python",
   "nbconvert_exporter": "python",
   "pygments_lexer": "ipython3",
   "version": "3.6.1"
  }
 },
 "nbformat": 4,
 "nbformat_minor": 2
}
