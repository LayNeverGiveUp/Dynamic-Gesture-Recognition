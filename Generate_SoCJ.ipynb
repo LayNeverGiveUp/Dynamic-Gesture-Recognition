{
 "cells": [
  {
   "cell_type": "code",
   "execution_count": 39,
   "metadata": {
    "collapsed": true
   },
   "outputs": [],
   "source": [
    "import os\n",
    "import numpy as np\n",
    "from dtw import dtw\n",
    "from numpy import linalg as la\n",
    "from numpy.linalg import norm\n",
    "import warnings\n",
    "import matplotlib.pylab as plt\n",
    "import pickle\n",
    "import pdb\n",
    "from hmmlearn import hmm\n",
    "from sklearn.externals import joblib\n",
    "warnings.filterwarnings('ignore')\n",
    "path='/Users/lay/Desktop/DHG2016/'\n",
    "import shutil "
   ]
  },
  {
   "cell_type": "code",
   "execution_count": 40,
   "metadata": {
    "collapsed": true
   },
   "outputs": [],
   "source": [
    "gesture_list=['1','3','4','5','6']\n",
    "subject_list=[str(i) for i in range(1,21)]\n",
    "position_list=[str(i) for i in range(1,6)]\n",
    "single_finger_list=['2','4','5','6']\n",
    "testgesture_list=['1','3','4','5','6']\n",
    "feature_file='feature_2.txt'\n",
    "num_joints=22"
   ]
  },
  {
   "cell_type": "code",
   "execution_count": 41,
   "metadata": {
    "collapsed": true
   },
   "outputs": [],
   "source": [
    "base_index=[3,7,11,15,19]\n",
    "first_index=[4,8,12,16,20]\n",
    "second_index=[5,9,13,17,21]\n",
    "tip_index=[6,10,14,18,22]\n",
    "tup={}\n",
    "tup['tup1']=[3,4,5,6]\n",
    "tup['tup2']=[7,8,9,10]\n",
    "tup['tup3']=[11,12,13,14]\n",
    "tup['tup4']=[15,16,17,18]\n",
    "tup['tup5']=[19,20,21,22]\n",
    "\n"
   ]
  },
  {
   "cell_type": "code",
   "execution_count": 42,
   "metadata": {
    "collapsed": true
   },
   "outputs": [],
   "source": [
    "def handsize_normalization(start,end,length):\n",
    "    x=start\n",
    "    y=end\n",
    "    d=np.linalg.norm(y-x)\n",
    "    lamda=length/d\n",
    "    return lamda*(y-x)"
   ]
  },
  {
   "cell_type": "code",
   "execution_count": 43,
   "metadata": {
    "collapsed": true
   },
   "outputs": [],
   "source": [
    "def rigid_transform_3D(A):\n",
    "    import numpy as np\n",
    "    A=np.mat(A)\n",
    "    B=np.mat([[0,-1,0],[0,0,0],[0.4,-0.92,0]])\n",
    "    assert len(A) == len(B)\n",
    "    N = A.shape[0]\n",
    "    centroid_A = np.mean(A, axis=0)\n",
    "    centroid_B = np.mean(B, axis=0)\n",
    "    # centre the points\n",
    "    AA = A - np.tile(centroid_A, (N, 1))\n",
    "    BB = B - np.tile(centroid_B, (N, 1))\n",
    "    # dot is matrix multiplication for array\n",
    "    H = np.transpose(AA) * BB\n",
    "    U, S, Vt = np.linalg.svd(H)\n",
    "    R = Vt.T * U.T\n",
    "    # special reflection case\n",
    "    if np.linalg.det(R) < 0:\n",
    "       #print (\"Reflection detected\")\n",
    "        Vt[2,:] *= -1\n",
    "        R= Vt.T * U.T\n",
    "    t = -R*centroid_A.T + centroid_B.T\n",
    "    return R, t\n"
   ]
  },
  {
   "cell_type": "code",
   "execution_count": 44,
   "metadata": {
    "collapsed": true
   },
   "outputs": [],
   "source": [
    "def transfer(R,t,nl):\n",
    "    import numpy as np\n",
    "    for i in range(1,23):\n",
    "        v=nl[(i-1)*3:i*3]\n",
    "        v=np.mat(v)\n",
    "        m=R*v.T + np.tile(t, (1, 1))\n",
    "        nl[(i-1)*3:i*3]=np.array(m.T)\n",
    "    return nl"
   ]
  },
  {
   "cell_type": "code",
   "execution_count": 45,
   "metadata": {},
   "outputs": [],
   "source": [
    "#normalize the hand\n",
    "gesture_dict={}\n",
    "for gesture in gesture_list:\n",
    "    for subject in subject_list:\n",
    "        for position in position_list:\n",
    "            if gesture in single_finger_list:\n",
    "                finger='1'\n",
    "            else:\n",
    "                finger='2'\n",
    "            new_path=path+'gesture_'+gesture+'/finger_'+finger+'/subject_'+subject+'/essai_'+position+'/'\n",
    "            f=open(new_path+'valid_skeleton.txt')\n",
    "            iter_f=iter(f)\n",
    "            L=[]\n",
    "            for line in iter_f:\n",
    "                l=line.split()\n",
    "                l=np.array([float(i) for i in l])\n",
    "                nl=np.array([0 for i in range(num_joints*3)],dtype='float')\n",
    "                wrist=l[0:3]\n",
    "                nl[0:3]=wrist\n",
    "                palm=l[3:6]\n",
    "                direction=handsize_normalization(wrist,palm,1)\n",
    "                nl[3:6]=np.array(nl[0:3])+direction\n",
    "                for i in range(5):\n",
    "                    direction=handsize_normalization(l[3:6],l[(base_index[i]-1)*3:3*base_index[i]],1)\n",
    "                    nl[(base_index[i]-1)*3:3*base_index[i]]=nl[3:6]+direction\n",
    "                    direction=handsize_normalization(l[(base_index[i]-1)*3:3*base_index[i]],l[(first_index[i]-1)*3:3*first_index[i]],0.5)\n",
    "                    nl[(first_index[i]-1)*3:3*first_index[i]]=nl[(base_index[i]-1)*3:3*base_index[i]]+direction\n",
    "                    direction=handsize_normalization(l[(first_index[i]-1)*3:3*first_index[i]],l[(second_index[i]-1)*3:3*second_index[i]],0.5)\n",
    "                    nl[(second_index[i]-1)*3:3*second_index[i]]=nl[(first_index[i]-1)*3:3*first_index[i]]+direction\n",
    "                    direction=handsize_normalization(l[(second_index[i]-1)*3:3*second_index[i]],l[(tip_index[i]-1)*3:3*tip_index[i]],0.5)\n",
    "                    nl[(tip_index[i]-1)*3:3*tip_index[i]]=nl[(second_index[i]-1)*3:3*second_index[i]]+direction\n",
    "                A=np.vstack((nl[0:3],nl[3:6],nl[6:9]))\n",
    "                R,t=rigid_transform_3D(A)\n",
    "                nl=transfer(R,t,nl)\n",
    "                nnl=[]\n",
    "                for ii in range(5):\n",
    "                    t=tup['tup'+str(ii+1)]\n",
    "                    buff=nl[3:6]\n",
    "                    for iii in range(4):\n",
    "                        ind=t[iii]\n",
    "                        nnl.append(nl[(ind-1)*3:3*ind]-buff)\n",
    "                        buff=nl[(ind-1)*3:3*ind]\n",
    "                buff=base_index[0]\n",
    "                for jj in range(4):\n",
    "                    ind=base_index[jj+1]\n",
    "                    nnl.append(nl[(ind-1)*3:3*ind]-buff)\n",
    "                    buff=nl[(ind-1)*3:3*ind]\n",
    "                buff=first_index[0]\n",
    "                for jj in range(4):\n",
    "                    ind=first_index[jj+1]\n",
    "                    nnl.append(nl[(ind-1)*3:3*ind]-buff)\n",
    "                    buff=nl[(ind-1)*3:3*ind]\n",
    "                buff=second_index[0]\n",
    "                for jj in range(4):\n",
    "                    ind=second_index[jj+1]\n",
    "                    nnl.append(nl[(ind-1)*3:3*ind]-buff)\n",
    "                    buff=nl[(ind-1)*3:3*ind]\n",
    "                buff=tip_index[0]\n",
    "                for jj in range(4):\n",
    "                    ind=tip_index[jj+1]\n",
    "                    nnl.append(nl[(ind-1)*3:3*ind]-buff)\n",
    "                    buff=nl[(ind-1)*3:3*ind]\n",
    "                nnl=np.array(nnl).reshape(1,108)\n",
    "                nnl=nnl.tolist()\n",
    "                L.append(nnl[0])\n",
    "            L=np.array(L)\n",
    "            np.savetxt(path+'gesture_'+gesture+'/finger_'+finger+'/subject_'+subject+'/essai_'+position+'/'+feature_file,L)\n",
    "            \n",
    "            \n",
    "                \n",
    "            \n",
    "        "
   ]
  },
  {
   "cell_type": "code",
   "execution_count": null,
   "metadata": {
    "collapsed": true
   },
   "outputs": [],
   "source": []
  }
 ],
 "metadata": {
  "kernelspec": {
   "display_name": "Python 3",
   "language": "python",
   "name": "python3"
  },
  "language_info": {
   "codemirror_mode": {
    "name": "ipython",
    "version": 3
   },
   "file_extension": ".py",
   "mimetype": "text/x-python",
   "name": "python",
   "nbconvert_exporter": "python",
   "pygments_lexer": "ipython3",
   "version": "3.6.1"
  }
 },
 "nbformat": 4,
 "nbformat_minor": 2
}
