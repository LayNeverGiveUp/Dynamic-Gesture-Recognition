{
 "cells": [
  {
   "cell_type": "code",
   "execution_count": 19,
   "metadata": {
    "collapsed": true
   },
   "outputs": [],
   "source": [
    "import os\n",
    "import numpy as np\n",
    "from hmmlearn import hmm\n",
    "from sklearn.externals import joblib\n",
    "from dtw import dtw\n",
    "from numpy import linalg as la\n",
    "import warnings\n",
    "from sklearn.metrics import confusion_matrix\n",
    "warnings.filterwarnings('ignore')\n",
    "path='/Users/lay/Desktop/DHG2016/'\n",
    "import shutil\n",
    "np.set_printoptions(threshold=np.inf)  "
   ]
  },
  {
   "cell_type": "code",
   "execution_count": 20,
   "metadata": {
    "collapsed": true
   },
   "outputs": [],
   "source": [
    "#set the gesture name, subject list and position list here\n",
    "#the state_list is the hyperparamter to be tuned for HMM, num_train is the number of train subjects and the number of\n",
    "#test subjects=number of subjects-number of train subjects\n",
    "gesture_list=['1','3','4','5','6']\n",
    "subject_list=[str(i) for i in range(1,21)]\n",
    "position_list=[str(i) for i in range(1,6)]\n",
    "single_finger_list=['2','4','5','6']\n",
    "state_list=[3,3,3,3,3]\n",
    "num_train=19\n",
    "testgesture_list=['1','3','4','5','6']\n",
    "feature_file='feature_0.txt'"
   ]
  },
  {
   "cell_type": "code",
   "execution_count": 21,
   "metadata": {},
   "outputs": [
    {
     "name": "stdout",
     "output_type": "stream",
     "text": [
      "iter1correct rate is 1.0\n",
      "iter2correct rate is 0.52\n",
      "iter3correct rate is 0.76\n",
      "iter4correct rate is 0.88\n",
      "iter5correct rate is 0.64\n",
      "iter6correct rate is 0.72\n",
      "iter7correct rate is 0.64\n",
      "iter8correct rate is 0.6\n",
      "iter9correct rate is 0.72\n",
      "iter10correct rate is 0.84\n",
      "iter11correct rate is 0.84\n",
      "iter12correct rate is 0.72\n",
      "iter13correct rate is 0.6\n",
      "iter14correct rate is 0.76\n",
      "iter15correct rate is 1.0\n",
      "iter16correct rate is 0.64\n",
      "iter17correct rate is 0.76\n",
      "iter18correct rate is 0.84\n",
      "iter19correct rate is 0.64\n",
      "iter20correct rate is 0.76\n",
      "average correct rate is0.744\n"
     ]
    }
   ],
   "source": [
    "#define the subject for training and for test\n",
    "c=[]\n",
    "ytrue=[]\n",
    "ypred=[]\n",
    "for ite in range(1,21):\n",
    "    #clear buffer every time\n",
    "    shutil.rmtree('/Users/lay/Desktop/Jupyter code/buffer') \n",
    "    os.mkdir('/Users/lay/Desktop/Jupyter code/buffer')\n",
    "    import random\n",
    "    testsubject_list=[str(ite)]\n",
    "    trainsubject_list=set(subject_list)-set(testsubject_list)\n",
    "    trainsubject_list=list(trainsubject_list)\n",
    "    trl=[int(i) for i in trainsubject_list]\n",
    "    trl.sort()\n",
    "    trainsubject_list=[str(i) for i in trl]\n",
    "    gesture_dict={}\n",
    "    length_dict={}\n",
    "    for gesture in gesture_list:\n",
    "        feature=[]\n",
    "        length=[]\n",
    "        for subject in trainsubject_list:\n",
    "            for position in position_list:\n",
    "                if gesture in single_finger_list:\n",
    "                    finger='1'\n",
    "                else:\n",
    "                    finger='2'\n",
    "                new_path=path+'gesture_'+gesture+'/finger_'+finger+'/subject_'+subject+'/essai_'+position+'/'\n",
    "                f=open(new_path+feature_file)\n",
    "                iter_f=iter(f)\n",
    "                L=[]\n",
    "                flag=0\n",
    "                for line in iter_f:\n",
    "                    l=line.split()\n",
    "                    l=[float(i) for i in l]\n",
    "                    L.append(l)\n",
    "                    flag=flag+1\n",
    "                feature.extend(L)\n",
    "                length.append(flag)    \n",
    "        gesture_dict[gesture]=feature\n",
    "        length_dict[gesture]=length   \n",
    "\n",
    "    #training \n",
    "    flag=1\n",
    "    from hmmlearn import hmm\n",
    "    for gesture in gesture_list:\n",
    "        X=np.array(gesture_dict[gesture])\n",
    "        le=length_dict[gesture]\n",
    "        remodel=hmm.GaussianHMM(n_components=state_list[flag-1],n_iter=100,init_params=\"cm\", params=\"cmt\")\n",
    "        remodel.startprob_ = np.array([1.0, 0.0, 0.0])\n",
    "        remodel.transmat_ = np.array([[0.5, 0.5, 0.0],\n",
    "                                [0.0, 0.5, 0.5],\n",
    "                                 [0.0, 0.0, 1.0]])\n",
    "        remodel.fit(X,le)\n",
    "        #print(remodel.monitor_.converged)\n",
    "        joblib.dump(remodel,'/Users/lay/Desktop/Jupyter code/buffer/'+'nc_hmm'+str(flag)+'.pkl')\n",
    "        flag=flag+1\n",
    "\n",
    "    ##test \n",
    "    num=0\n",
    "    correct=0\n",
    "    for gesture in testgesture_list:\n",
    "        for subject in testsubject_list:\n",
    "            for position in position_list:\n",
    "                if gesture in single_finger_list:\n",
    "                    finger='1'\n",
    "                else:\n",
    "                    finger='2'\n",
    "                num=num+1\n",
    "                new_path=path+'gesture_'+gesture+'/finger_'+finger+'/subject_'+subject+'/essai_'+position+'/'\n",
    "                f=open(new_path+feature_file)\n",
    "                iter_f=iter(f)\n",
    "                L=[]\n",
    "                for line in iter_f:\n",
    "                    l=line.split()\n",
    "                    l=[float(i) for i in l]\n",
    "                    L.append(l)\n",
    "                Y=np.array(L)\n",
    "                pre=[]\n",
    "                for j in range(len(gesture_list)):\n",
    "                    hmm=joblib.load('/Users/lay/Desktop/Jupyter code/buffer/'+'nc_hmm'+str(j+1)+'.pkl')\n",
    "                    pre.append(hmm.score(Y))   \n",
    "                iid=pre.index((max(pre)))\n",
    "                ypred.append(iid)\n",
    "                ytrue.append(gesture_list.index(gesture))\n",
    "                if iid==gesture_list.index(gesture):\n",
    "                    correct=correct+1\n",
    "    print('iter'+ str(ite)+'correct rate is '+str(correct/num))\n",
    "    c.append(correct/num)\n",
    "print('average correct rate is'+ str(np.mean(c)))\n",
    "confusion_matrix=confusion_matrix(ytrue, ypred)"
   ]
  },
  {
   "cell_type": "code",
   "execution_count": 23,
   "metadata": {},
   "outputs": [
    {
     "data": {
      "text/plain": [
       "(3071, 256)"
      ]
     },
     "execution_count": 23,
     "metadata": {},
     "output_type": "execute_result"
    }
   ],
   "source": [
    "X.shape"
   ]
  },
  {
   "cell_type": "code",
   "execution_count": 6,
   "metadata": {},
   "outputs": [
    {
     "data": {
      "text/plain": [
       "array([[79,  6,  9,  3,  3],\n",
       "       [ 6, 81, 10,  2,  1],\n",
       "       [ 5,  6, 47, 22, 20],\n",
       "       [ 6,  0,  9, 75, 10],\n",
       "       [ 3,  4, 19, 17, 57]])"
      ]
     },
     "execution_count": 6,
     "metadata": {},
     "output_type": "execute_result"
    }
   ],
   "source": [
    "confusion_matrix"
   ]
  },
  {
   "cell_type": "code",
   "execution_count": 9,
   "metadata": {
    "collapsed": true
   },
   "outputs": [],
   "source": [
    "shutil.rmtree('/Users/lay/Desktop/Jupyter code/buffer') \n",
    "os.mkdir('/Users/lay/Desktop/Jupyter code/buffer')"
   ]
  },
  {
   "cell_type": "code",
   "execution_count": null,
   "metadata": {
    "collapsed": true
   },
   "outputs": [],
   "source": []
  }
 ],
 "metadata": {
  "kernelspec": {
   "display_name": "Python 3",
   "language": "python",
   "name": "python3"
  },
  "language_info": {
   "codemirror_mode": {
    "name": "ipython",
    "version": 3
   },
   "file_extension": ".py",
   "mimetype": "text/x-python",
   "name": "python",
   "nbconvert_exporter": "python",
   "pygments_lexer": "ipython3",
   "version": "3.6.1"
  }
 },
 "nbformat": 4,
 "nbformat_minor": 2
}
