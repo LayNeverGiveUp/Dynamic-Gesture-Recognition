{
 "cells": [
  {
   "cell_type": "code",
   "execution_count": 3,
   "metadata": {},
   "outputs": [
    {
     "ename": "AssertionError",
     "evalue": "",
     "output_type": "error",
     "traceback": [
      "\u001b[0;31m---------------------------------------------------------------------------\u001b[0m",
      "\u001b[0;31mAssertionError\u001b[0m                            Traceback (most recent call last)",
      "\u001b[0;32m<ipython-input-3-aef722483cfb>\u001b[0m in \u001b[0;36m<module>\u001b[0;34m()\u001b[0m\n\u001b[1;32m     88\u001b[0m                         \u001b[0mo\u001b[0m\u001b[0;34m=\u001b[0m\u001b[0mlen\u001b[0m\u001b[0;34m(\u001b[0m\u001b[0mX1\u001b[0m\u001b[0;34m[\u001b[0m\u001b[0mi\u001b[0m\u001b[0;34m]\u001b[0m\u001b[0;34m)\u001b[0m\u001b[0;34m\u001b[0m\u001b[0m\n\u001b[1;32m     89\u001b[0m                         \u001b[0mx1\u001b[0m\u001b[0;34m.\u001b[0m\u001b[0mreshape\u001b[0m\u001b[0;34m(\u001b[0m\u001b[0;36m1\u001b[0m\u001b[0;34m,\u001b[0m\u001b[0mo\u001b[0m\u001b[0;34m)\u001b[0m\u001b[0;34m\u001b[0m\u001b[0m\n\u001b[0;32m---> 90\u001b[0;31m                         \u001b[0mdist\u001b[0m\u001b[0;34m,\u001b[0m \u001b[0mcost\u001b[0m\u001b[0;34m,\u001b[0m \u001b[0macc_cost\u001b[0m\u001b[0;34m,\u001b[0m \u001b[0mpathy\u001b[0m\u001b[0;34m=\u001b[0m\u001b[0mdtw\u001b[0m\u001b[0;34m(\u001b[0m\u001b[0mx1\u001b[0m\u001b[0;34m.\u001b[0m\u001b[0mT\u001b[0m\u001b[0;34m,\u001b[0m\u001b[0mx2\u001b[0m\u001b[0;34m.\u001b[0m\u001b[0mT\u001b[0m\u001b[0;34m,\u001b[0m\u001b[0mdist\u001b[0m\u001b[0;34m=\u001b[0m\u001b[0;32mlambda\u001b[0m \u001b[0mx\u001b[0m\u001b[0;34m,\u001b[0m \u001b[0my\u001b[0m\u001b[0;34m:\u001b[0m \u001b[0mnorm\u001b[0m\u001b[0;34m(\u001b[0m\u001b[0mx\u001b[0m \u001b[0;34m-\u001b[0m \u001b[0my\u001b[0m\u001b[0;34m,\u001b[0m \u001b[0mord\u001b[0m\u001b[0;34m=\u001b[0m\u001b[0;36m1\u001b[0m\u001b[0;34m)\u001b[0m\u001b[0;34m)\u001b[0m\u001b[0;34m\u001b[0m\u001b[0m\n\u001b[0m\u001b[1;32m     91\u001b[0m                         \u001b[0md\u001b[0m\u001b[0;34m.\u001b[0m\u001b[0mappend\u001b[0m\u001b[0;34m(\u001b[0m\u001b[0mdist\u001b[0m\u001b[0;34m)\u001b[0m\u001b[0;34m\u001b[0m\u001b[0m\n\u001b[1;32m     92\u001b[0m                     \u001b[0mdd\u001b[0m\u001b[0;34m.\u001b[0m\u001b[0mappend\u001b[0m\u001b[0;34m(\u001b[0m\u001b[0mmin\u001b[0m\u001b[0;34m(\u001b[0m\u001b[0md\u001b[0m\u001b[0;34m)\u001b[0m\u001b[0;34m)\u001b[0m\u001b[0;34m\u001b[0m\u001b[0m\n",
      "\u001b[0;32m/anaconda/lib/python3.6/site-packages/dtw.py\u001b[0m in \u001b[0;36mdtw\u001b[0;34m(x, y, dist)\u001b[0m\n\u001b[1;32m     12\u001b[0m     \u001b[0mReturns\u001b[0m \u001b[0mthe\u001b[0m \u001b[0mminimum\u001b[0m \u001b[0mdistance\u001b[0m\u001b[0;34m,\u001b[0m \u001b[0mthe\u001b[0m \u001b[0mcost\u001b[0m \u001b[0mmatrix\u001b[0m\u001b[0;34m,\u001b[0m \u001b[0mthe\u001b[0m \u001b[0maccumulated\u001b[0m \u001b[0mcost\u001b[0m \u001b[0mmatrix\u001b[0m\u001b[0;34m,\u001b[0m \u001b[0;32mand\u001b[0m \u001b[0mthe\u001b[0m \u001b[0mwrap\u001b[0m \u001b[0mpath\u001b[0m\u001b[0;34m.\u001b[0m\u001b[0;34m\u001b[0m\u001b[0m\n\u001b[1;32m     13\u001b[0m     \"\"\"\n\u001b[0;32m---> 14\u001b[0;31m     \u001b[0;32massert\u001b[0m \u001b[0mlen\u001b[0m\u001b[0;34m(\u001b[0m\u001b[0mx\u001b[0m\u001b[0;34m)\u001b[0m\u001b[0;34m\u001b[0m\u001b[0m\n\u001b[0m\u001b[1;32m     15\u001b[0m     \u001b[0;32massert\u001b[0m \u001b[0mlen\u001b[0m\u001b[0;34m(\u001b[0m\u001b[0my\u001b[0m\u001b[0;34m)\u001b[0m\u001b[0;34m\u001b[0m\u001b[0m\n\u001b[1;32m     16\u001b[0m     \u001b[0mr\u001b[0m\u001b[0;34m,\u001b[0m \u001b[0mc\u001b[0m \u001b[0;34m=\u001b[0m \u001b[0mlen\u001b[0m\u001b[0;34m(\u001b[0m\u001b[0mx\u001b[0m\u001b[0;34m)\u001b[0m\u001b[0;34m,\u001b[0m \u001b[0mlen\u001b[0m\u001b[0;34m(\u001b[0m\u001b[0my\u001b[0m\u001b[0;34m)\u001b[0m\u001b[0;34m\u001b[0m\u001b[0m\n",
      "\u001b[0;31mAssertionError\u001b[0m: "
     ]
    }
   ],
   "source": [
    "import numpy as np\n",
    "from sklearn.cluster import KMeans\n",
    "import warnings\n",
    "import random\n",
    "from dtw import dtw\n",
    "from numpy.linalg import norm\n",
    "warnings.filterwarnings('ignore')\n",
    "K=16\n",
    "num_train=19\n",
    "feature_file='binary_feature.txt'\n",
    "path='/Users/lay/Desktop/DHG2016/'\n",
    "gesture_list=['1','3','4','5','6']\n",
    "subject_list=[str(i) for i in range(1,21)]\n",
    "position_list=[str(i) for i in range(1,6)]\n",
    "single_finger_list=['2','4','5','6']\n",
    "s_list=[i for i in range(1,21)]\n",
    "c=[]\n",
    "for ite in range(1,21):\n",
    "    testsubject_list=[str(ite)]\n",
    "    trainsubject_list=set(subject_list)-set(testsubject_list)\n",
    "    trainsubject_list=list(trainsubject_list)\n",
    "    gesdic={}\n",
    "    LL=[]\n",
    "    for gesture in gesture_list:\n",
    "        for subject in subject_list:\n",
    "            for position in position_list:\n",
    "                if gesture in single_finger_list:\n",
    "                    finger='1'\n",
    "                else:\n",
    "                    finger='2'\n",
    "                \n",
    "                new_path=path+'gesture_'+gesture+'/finger_'+finger+'/subject_'+subject+'/essai_'+position+'/'\n",
    "                f=open(new_path+feature_file)\n",
    "                L=[]\n",
    "                iter_f=iter(f)\n",
    "                for line in iter_f:\n",
    "                    l=line.split()\n",
    "                    l=[float(i) for i in l]\n",
    "                    L.append(l)\n",
    "                    if subject in trainsubject_list:\n",
    "                        LL.append(l)\n",
    "                gesdic[gesture+subject+position]=L                \n",
    "    X=np.array(LL)\n",
    "    codebook=KMeans(n_clusters=K, random_state=0).fit(X)\n",
    "    #model_generation\n",
    "    sequence_model={}\n",
    "    for gesture in gesture_list:\n",
    "        gesture_sequence=[]\n",
    "        for subject in trainsubject_list:\n",
    "            for position in position_list:\n",
    "                T=gesdic[gesture+subject+position]\n",
    "                s=[]\n",
    "                for i in range(len(T)):\n",
    "                    t=T[i]\n",
    "                    pre=codebook.predict(np.array(t))\n",
    "                    s.append(pre[0])\n",
    "                gesture_sequence.append(s)\n",
    "        sequence_model[gesture]=gesture_sequence\n",
    "\n",
    "    correct=0\n",
    "    flag=0\n",
    "    for gesture in gesture_list:\n",
    "        gesture_sequence=[]\n",
    "        for subject in testsubject_list:\n",
    "            for position in position_list:\n",
    "                flag=flag+1\n",
    "                if gesture in single_finger_list:\n",
    "                    finger='1'\n",
    "                else:\n",
    "                    finger='2'\n",
    "                n_path=path+'gesture_'+gesture+'/finger_'+finger+'/subject_'+subject+'/essai_'+position+'/'\n",
    "                ff=open(n_path+feature_file)\n",
    "                iter_ff=iter(ff)\n",
    "                s=[]\n",
    "                for line in iter_ff:\n",
    "                    l=line.split()\n",
    "                    l=[float(i) for i in l]\n",
    "                    pre=codebook.predict(np.array(l))\n",
    "                    s.append(pre[0])\n",
    "                o=len(s)\n",
    "                x2=np.array(s).reshape(1,o)\n",
    "                dd=[]\n",
    "                for testgesture in gesture_list:\n",
    "                    d=[]\n",
    "                    X1=sequence_model[testgesture]\n",
    "                    for i in range(len(X1)):\n",
    "                        x1=np.array(X1[i])\n",
    "                        o=len(X1[i])\n",
    "                        x1.reshape(1,o)\n",
    "                        dist, cost, acc_cost, pathy=dtw(x1.T,x2.T,dist=lambda x, y: norm(x - y, ord=1))\n",
    "                        d.append(dist)\n",
    "                    dd.append(min(d))\n",
    "                if dd.index(min(dd))==gesture_list.index(gesture):\n",
    "                    correct=correct+1\n",
    "    print('iter'+ str(ite)+ 'correct_rate ='+ str(correct/flag))\n",
    "    c.append(correct/flag)\n",
    "print(np.mean(c))\n",
    "                \n",
    "\n"
   ]
  },
  {
   "cell_type": "code",
   "execution_count": 4,
   "metadata": {},
   "outputs": [
    {
     "data": {
      "text/plain": [
       "array([], dtype=float64)"
      ]
     },
     "execution_count": 4,
     "metadata": {},
     "output_type": "execute_result"
    }
   ],
   "source": [
    "x1"
   ]
  },
  {
   "cell_type": "code",
   "execution_count": 5,
   "metadata": {},
   "outputs": [
    {
     "data": {
      "text/plain": [
       "array([[ 8,  8,  8,  8,  8,  8,  8,  8,  8,  8,  8,  8,  8,  5,  5,  5,\n",
       "         5,  5,  5,  9,  9,  1,  1,  1,  1,  1,  1,  1,  1,  1,  1, 10,\n",
       "        10, 10, 10, 13, 13, 13, 13, 13, 13, 13, 13, 13, 13, 13, 13, 13,\n",
       "        13, 13, 13, 13, 13]], dtype=int32)"
      ]
     },
     "execution_count": 5,
     "metadata": {},
     "output_type": "execute_result"
    }
   ],
   "source": [
    "x2"
   ]
  },
  {
   "cell_type": "code",
   "execution_count": null,
   "metadata": {
    "collapsed": true
   },
   "outputs": [],
   "source": []
  }
 ],
 "metadata": {
  "kernelspec": {
   "display_name": "Python 3",
   "language": "python",
   "name": "python3"
  },
  "language_info": {
   "codemirror_mode": {
    "name": "ipython",
    "version": 3
   },
   "file_extension": ".py",
   "mimetype": "text/x-python",
   "name": "python",
   "nbconvert_exporter": "python",
   "pygments_lexer": "ipython3",
   "version": "3.6.1"
  }
 },
 "nbformat": 4,
 "nbformat_minor": 2
}
