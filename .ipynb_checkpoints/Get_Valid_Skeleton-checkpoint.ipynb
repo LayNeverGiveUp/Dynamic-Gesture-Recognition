{
 "cells": [
  {
   "cell_type": "code",
   "execution_count": 65,
   "metadata": {
    "collapsed": true
   },
   "outputs": [],
   "source": [
    "import os\n",
    "path='/Users/lay/Desktop/DHG2016/'\n",
    "index_file='/Users/lay/Desktop/DHG2016/informations_troncage_sequences.txt'\n",
    "f=open(index_file)\n",
    "iter_f=iter(f)\n",
    "for l1 in iter_f:\n",
    "    l=l1.split()\n",
    "    gesture=l[0]\n",
    "    finger=l[1]\n",
    "    subject=l[2]\n",
    "    position=l[3]\n",
    "    start=int(l[4])\n",
    "    end=int(l[5])\n",
    "    new_path=path+'gesture_'+gesture+'/finger_'+finger+'/subject_'+subject+'/essai_'+position+'/'\n",
    "    ff=open(new_path+'skeleton_world.txt')\n",
    "    iter_ff=iter(ff)\n",
    "    L=[]\n",
    "    for l2 in iter_ff:\n",
    "        ll=l2.split()\n",
    "        ll=[float(i) for i in ll]\n",
    "        L.append(ll)\n",
    "    L=np.array(L)\n",
    "    nL=L[range(start-1,end),:]\n",
    "    np.savetxt(path+'gesture_'+gesture+'/finger_'+finger+'/subject_'+subject+'/essai_'+position+'/'+'valid_skeleton.txt',nL)\n"
   ]
  }
 ],
 "metadata": {
  "kernelspec": {
   "display_name": "Python 3",
   "language": "python",
   "name": "python3"
  },
  "language_info": {
   "codemirror_mode": {
    "name": "ipython",
    "version": 3
   },
   "file_extension": ".py",
   "mimetype": "text/x-python",
   "name": "python",
   "nbconvert_exporter": "python",
   "pygments_lexer": "ipython3",
   "version": "3.6.1"
  }
 },
 "nbformat": 4,
 "nbformat_minor": 2
}
