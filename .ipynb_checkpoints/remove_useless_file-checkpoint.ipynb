{
 "cells": [
  {
   "cell_type": "code",
   "execution_count": null,
   "metadata": {
    "collapsed": true
   },
   "outputs": [],
   "source": [
    "import os\n",
    "path='/Users/lay/Desktop/DHG2016/'\n",
    "gesture_list=['1','3','4','5','6']\n",
    "subject_list=[str(i) for i in range(1,21)]\n",
    "position_list=[str(i) for i in range(1,6)]\n",
    "remove_file_name='new_feature_2.txt'\n",
    "f=0\n",
    "for gesture in gesture_list:\n",
    "    for subject in subject_list:\n",
    "        for position in position_list:\n",
    "            new_path=path+'gesture_'+gesture+'/finger_1/subject_'+subject+'/essai_'+position+'/'\n",
    "            try:\n",
    "                os.remove(path+'gesture_'+gesture+'/finger_1/subject_'+subject+'/essai_'+position+'/'+remove_file_name)\n",
    "            except:\n",
    "                f=f+1"
   ]
  }
 ],
 "metadata": {
  "kernelspec": {
   "display_name": "Python 3",
   "language": "python",
   "name": "python3"
  },
  "language_info": {
   "codemirror_mode": {
    "name": "ipython",
    "version": 3
   },
   "file_extension": ".py",
   "mimetype": "text/x-python",
   "name": "python",
   "nbconvert_exporter": "python",
   "pygments_lexer": "ipython3",
   "version": "3.6.1"
  }
 },
 "nbformat": 4,
 "nbformat_minor": 2
}
