{
 "cells": [
  {
   "cell_type": "code",
   "execution_count": 17,
   "metadata": {
    "collapsed": true
   },
   "outputs": [],
   "source": [
    "import os\n",
    "import numpy as np\n",
    "from hmmlearn import hmm\n",
    "from sklearn.externals import joblib\n",
    "from dtw import dtw\n",
    "from numpy import linalg as la\n",
    "import warnings\n",
    "from sklearn.metrics import confusion_matrix\n",
    "warnings.filterwarnings('ignore')\n",
    "path='/Users/lay/Desktop/DHG2016/'\n",
    "import shutil\n",
    "np.set_printoptions(threshold=np.inf)  "
   ]
  },
  {
   "cell_type": "code",
   "execution_count": 18,
   "metadata": {
    "collapsed": true
   },
   "outputs": [],
   "source": [
    "#set the gesture name, subject list and position list here\n",
    "#the state_list is the hyperparamter to be tuned for HMM, num_train is the number of train subjects and the number of\n",
    "#test subjects=number of subjects-number of train subjects\n",
    "gesture_list=['1','3','4','5','6']\n",
    "subject_list=[str(i) for i in range(1,21)]\n",
    "position_list=[str(i) for i in range(1,6)]\n",
    "single_finger_list=['2','4','5','6']\n",
    "state_list=[3,3,3,3,3]\n",
    "num_train=19\n",
    "testgesture_list=['1','3','4','5','6']\n",
    "feature_file='feature_1.txt'"
   ]
  },
  {
   "cell_type": "code",
   "execution_count": 19,
   "metadata": {},
   "outputs": [
    {
     "ename": "IndexError",
     "evalue": "index -1 is out of bounds for axis 0 with size 0",
     "output_type": "error",
     "traceback": [
      "\u001b[0;31m---------------------------------------------------------------------------\u001b[0m",
      "\u001b[0;31mIndexError\u001b[0m                                Traceback (most recent call last)",
      "\u001b[0;32m<ipython-input-19-91c7d3020e18>\u001b[0m in \u001b[0;36m<module>\u001b[0;34m()\u001b[0m\n\u001b[1;32m     51\u001b[0m                                 \u001b[0;34m[\u001b[0m\u001b[0;36m0.0\u001b[0m\u001b[0;34m,\u001b[0m \u001b[0;36m0.5\u001b[0m\u001b[0;34m,\u001b[0m \u001b[0;36m0.5\u001b[0m\u001b[0;34m]\u001b[0m\u001b[0;34m,\u001b[0m\u001b[0;34m\u001b[0m\u001b[0m\n\u001b[1;32m     52\u001b[0m                                  [0.0, 0.0, 1.0]])\n\u001b[0;32m---> 53\u001b[0;31m         \u001b[0mremodel\u001b[0m\u001b[0;34m.\u001b[0m\u001b[0mfit\u001b[0m\u001b[0;34m(\u001b[0m\u001b[0mX\u001b[0m\u001b[0;34m,\u001b[0m\u001b[0mle\u001b[0m\u001b[0;34m)\u001b[0m\u001b[0;34m\u001b[0m\u001b[0m\n\u001b[0m\u001b[1;32m     54\u001b[0m         \u001b[0;31m#print(remodel.monitor_.converged)\u001b[0m\u001b[0;34m\u001b[0m\u001b[0;34m\u001b[0m\u001b[0m\n\u001b[1;32m     55\u001b[0m         \u001b[0mjoblib\u001b[0m\u001b[0;34m.\u001b[0m\u001b[0mdump\u001b[0m\u001b[0;34m(\u001b[0m\u001b[0mremodel\u001b[0m\u001b[0;34m,\u001b[0m\u001b[0;34m'/Users/lay/Desktop/Jupyter code/buffer/'\u001b[0m\u001b[0;34m+\u001b[0m\u001b[0;34m'nc_hmm'\u001b[0m\u001b[0;34m+\u001b[0m\u001b[0mstr\u001b[0m\u001b[0;34m(\u001b[0m\u001b[0mflag\u001b[0m\u001b[0;34m)\u001b[0m\u001b[0;34m+\u001b[0m\u001b[0;34m'.pkl'\u001b[0m\u001b[0;34m)\u001b[0m\u001b[0;34m\u001b[0m\u001b[0m\n",
      "\u001b[0;32m/Users/lay/.local/lib/python3.6/site-packages/hmmlearn/base.py\u001b[0m in \u001b[0;36mfit\u001b[0;34m(self, X, lengths)\u001b[0m\n\u001b[1;32m    428\u001b[0m             \u001b[0;32mfor\u001b[0m \u001b[0mi\u001b[0m\u001b[0;34m,\u001b[0m \u001b[0mj\u001b[0m \u001b[0;32min\u001b[0m \u001b[0miter_from_X_lengths\u001b[0m\u001b[0;34m(\u001b[0m\u001b[0mX\u001b[0m\u001b[0;34m,\u001b[0m \u001b[0mlengths\u001b[0m\u001b[0;34m)\u001b[0m\u001b[0;34m:\u001b[0m\u001b[0;34m\u001b[0m\u001b[0m\n\u001b[1;32m    429\u001b[0m                 \u001b[0mframelogprob\u001b[0m \u001b[0;34m=\u001b[0m \u001b[0mself\u001b[0m\u001b[0;34m.\u001b[0m\u001b[0m_compute_log_likelihood\u001b[0m\u001b[0;34m(\u001b[0m\u001b[0mX\u001b[0m\u001b[0;34m[\u001b[0m\u001b[0mi\u001b[0m\u001b[0;34m:\u001b[0m\u001b[0mj\u001b[0m\u001b[0;34m]\u001b[0m\u001b[0;34m)\u001b[0m\u001b[0;34m\u001b[0m\u001b[0m\n\u001b[0;32m--> 430\u001b[0;31m                 \u001b[0mlogprob\u001b[0m\u001b[0;34m,\u001b[0m \u001b[0mfwdlattice\u001b[0m \u001b[0;34m=\u001b[0m \u001b[0mself\u001b[0m\u001b[0;34m.\u001b[0m\u001b[0m_do_forward_pass\u001b[0m\u001b[0;34m(\u001b[0m\u001b[0mframelogprob\u001b[0m\u001b[0;34m)\u001b[0m\u001b[0;34m\u001b[0m\u001b[0m\n\u001b[0m\u001b[1;32m    431\u001b[0m                 \u001b[0mcurr_logprob\u001b[0m \u001b[0;34m+=\u001b[0m \u001b[0mlogprob\u001b[0m\u001b[0;34m\u001b[0m\u001b[0m\n\u001b[1;32m    432\u001b[0m                 \u001b[0mbwdlattice\u001b[0m \u001b[0;34m=\u001b[0m \u001b[0mself\u001b[0m\u001b[0;34m.\u001b[0m\u001b[0m_do_backward_pass\u001b[0m\u001b[0;34m(\u001b[0m\u001b[0mframelogprob\u001b[0m\u001b[0;34m)\u001b[0m\u001b[0;34m\u001b[0m\u001b[0m\n",
      "\u001b[0;32m/Users/lay/.local/lib/python3.6/site-packages/hmmlearn/base.py\u001b[0m in \u001b[0;36m_do_forward_pass\u001b[0;34m(self, framelogprob)\u001b[0m\n\u001b[1;32m    460\u001b[0m                        \u001b[0mnp\u001b[0m\u001b[0;34m.\u001b[0m\u001b[0mlog\u001b[0m\u001b[0;34m(\u001b[0m\u001b[0mself\u001b[0m\u001b[0;34m.\u001b[0m\u001b[0mtransmat_\u001b[0m\u001b[0;34m)\u001b[0m\u001b[0;34m,\u001b[0m\u001b[0;34m\u001b[0m\u001b[0m\n\u001b[1;32m    461\u001b[0m                        framelogprob, fwdlattice)\n\u001b[0;32m--> 462\u001b[0;31m         \u001b[0;32mreturn\u001b[0m \u001b[0mlogsumexp\u001b[0m\u001b[0;34m(\u001b[0m\u001b[0mfwdlattice\u001b[0m\u001b[0;34m[\u001b[0m\u001b[0;34m-\u001b[0m\u001b[0;36m1\u001b[0m\u001b[0;34m]\u001b[0m\u001b[0;34m)\u001b[0m\u001b[0;34m,\u001b[0m \u001b[0mfwdlattice\u001b[0m\u001b[0;34m\u001b[0m\u001b[0m\n\u001b[0m\u001b[1;32m    463\u001b[0m \u001b[0;34m\u001b[0m\u001b[0m\n\u001b[1;32m    464\u001b[0m     \u001b[0;32mdef\u001b[0m \u001b[0m_do_backward_pass\u001b[0m\u001b[0;34m(\u001b[0m\u001b[0mself\u001b[0m\u001b[0;34m,\u001b[0m \u001b[0mframelogprob\u001b[0m\u001b[0;34m)\u001b[0m\u001b[0;34m:\u001b[0m\u001b[0;34m\u001b[0m\u001b[0m\n",
      "\u001b[0;31mIndexError\u001b[0m: index -1 is out of bounds for axis 0 with size 0"
     ]
    }
   ],
   "source": [
    "#define the subject for training and for test\n",
    "c=[]\n",
    "ytrue=[]\n",
    "ypred=[]\n",
    "for ite in range(1,21):\n",
    "    #clear buffer every time\n",
    "    shutil.rmtree('/Users/lay/Desktop/Jupyter code/buffer') \n",
    "    os.mkdir('/Users/lay/Desktop/Jupyter code/buffer')\n",
    "    import random\n",
    "    testsubject_list=[str(ite)]\n",
    "    trainsubject_list=set(subject_list)-set(testsubject_list)\n",
    "    trainsubject_list=list(trainsubject_list)\n",
    "    trl=[int(i) for i in trainsubject_list]\n",
    "    trl.sort()\n",
    "    trainsubject_list=[str(i) for i in trl]\n",
    "    gesture_dict={}\n",
    "    length_dict={}\n",
    "    for gesture in gesture_list:\n",
    "        feature=[]\n",
    "        length=[]\n",
    "        for subject in trainsubject_list:\n",
    "            for position in position_list:\n",
    "                if gesture in single_finger_list:\n",
    "                    finger='1'\n",
    "                else:\n",
    "                    finger='2'\n",
    "                new_path=path+'gesture_'+gesture+'/finger_'+finger+'/subject_'+subject+'/essai_'+position+'/'\n",
    "                f=open(new_path+feature_file)\n",
    "                iter_f=iter(f)\n",
    "                L=[]\n",
    "                flag=0\n",
    "                for line in iter_f:\n",
    "                    l=line.split()\n",
    "                    l=[float(i) for i in l]\n",
    "                    L.append(l)\n",
    "                    flag=flag+1\n",
    "                feature.extend(L)\n",
    "                length.append(flag)    \n",
    "        gesture_dict[gesture]=feature\n",
    "        length_dict[gesture]=length   \n",
    "\n",
    "    #training \n",
    "    flag=1\n",
    "    from hmmlearn import hmm\n",
    "    for gesture in gesture_list:\n",
    "        X=np.array(gesture_dict[gesture])\n",
    "        le=length_dict[gesture]\n",
    "        remodel=hmm.GaussianHMM(n_components=state_list[flag-1],n_iter=100,init_params=\"cm\", params=\"cmt\")\n",
    "        remodel.startprob_ = np.array([1.0, 0.0, 0.0])\n",
    "        remodel.transmat_ = np.array([[0.5, 0.5, 0.0],\n",
    "                                [0.0, 0.5, 0.5],\n",
    "                                 [0.0, 0.0, 1.0]])\n",
    "        remodel.fit(X,le)\n",
    "        #print(remodel.monitor_.converged)\n",
    "        joblib.dump(remodel,'/Users/lay/Desktop/Jupyter code/buffer/'+'nc_hmm'+str(flag)+'.pkl')\n",
    "        flag=flag+1\n",
    "\n",
    "    ##test \n",
    "    num=0\n",
    "    correct=0\n",
    "    for gesture in testgesture_list:\n",
    "        for subject in testsubject_list:\n",
    "            for position in position_list:\n",
    "                if gesture in single_finger_list:\n",
    "                    finger='1'\n",
    "                else:\n",
    "                    finger='2'\n",
    "                num=num+1\n",
    "                new_path=path+'gesture_'+gesture+'/finger_'+finger+'/subject_'+subject+'/essai_'+position+'/'\n",
    "                f=open(new_path+feature_file)\n",
    "                iter_f=iter(f)\n",
    "                L=[]\n",
    "                for line in iter_f:\n",
    "                    l=line.split()\n",
    "                    l=[float(i) for i in l]\n",
    "                    L.append(l)\n",
    "                Y=np.array(L)\n",
    "                pre=[]\n",
    "                for j in range(len(gesture_list)):\n",
    "                    hmm=joblib.load('/Users/lay/Desktop/Jupyter code/buffer/'+'nc_hmm'+str(j+1)+'.pkl')\n",
    "                    pre.append(hmm.score(Y))   \n",
    "                iid=pre.index((max(pre)))\n",
    "                ypred.append(iid)\n",
    "                ytrue.append(gesture_list.index(gesture))\n",
    "                if iid==gesture_list.index(gesture):\n",
    "                    correct=correct+1\n",
    "    print('iter'+ str(ite)+'correct rate is '+str(correct/num))\n",
    "    c.append(correct/num)\n",
    "print('average correct rate is'+ str(np.mean(c)))\n",
    "confusion_matrix=confusion_matrix(ytrue, ypred)"
   ]
  },
  {
   "cell_type": "code",
   "execution_count": 23,
   "metadata": {},
   "outputs": [
    {
     "data": {
      "text/plain": [
       "(3071, 256)"
      ]
     },
     "execution_count": 23,
     "metadata": {},
     "output_type": "execute_result"
    }
   ],
   "source": [
    "X.shape"
   ]
  },
  {
   "cell_type": "code",
   "execution_count": 6,
   "metadata": {},
   "outputs": [
    {
     "data": {
      "text/plain": [
       "array([[79,  6,  9,  3,  3],\n",
       "       [ 6, 81, 10,  2,  1],\n",
       "       [ 5,  6, 47, 22, 20],\n",
       "       [ 6,  0,  9, 75, 10],\n",
       "       [ 3,  4, 19, 17, 57]])"
      ]
     },
     "execution_count": 6,
     "metadata": {},
     "output_type": "execute_result"
    }
   ],
   "source": [
    "confusion_matrix"
   ]
  },
  {
   "cell_type": "code",
   "execution_count": 9,
   "metadata": {
    "collapsed": true
   },
   "outputs": [],
   "source": [
    "shutil.rmtree('/Users/lay/Desktop/Jupyter code/buffer') \n",
    "os.mkdir('/Users/lay/Desktop/Jupyter code/buffer')"
   ]
  },
  {
   "cell_type": "code",
   "execution_count": null,
   "metadata": {
    "collapsed": true
   },
   "outputs": [],
   "source": []
  }
 ],
 "metadata": {
  "kernelspec": {
   "display_name": "Python 3",
   "language": "python",
   "name": "python3"
  },
  "language_info": {
   "codemirror_mode": {
    "name": "ipython",
    "version": 3
   },
   "file_extension": ".py",
   "mimetype": "text/x-python",
   "name": "python",
   "nbconvert_exporter": "python",
   "pygments_lexer": "ipython3",
   "version": "3.6.1"
  }
 },
 "nbformat": 4,
 "nbformat_minor": 2
}
